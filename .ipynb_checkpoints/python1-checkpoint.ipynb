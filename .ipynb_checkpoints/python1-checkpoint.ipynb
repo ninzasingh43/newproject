{
 "cells": [
  {
   "cell_type": "code",
   "execution_count": 1,
   "id": "23af3bf0-5937-4f2a-a963-49ba6d83eb2e",
   "metadata": {},
   "outputs": [
    {
     "name": "stdout",
     "output_type": "stream",
     "text": [
      "python\n"
     ]
    }
   ],
   "source": [
    "print(\"python\")"
   ]
  },
  {
   "cell_type": "code",
   "execution_count": 2,
   "id": "2b081414-9fb7-48db-8eb9-71f5fcc39180",
   "metadata": {},
   "outputs": [
    {
     "name": "stdout",
     "output_type": "stream",
     "text": [
      "statement2\n"
     ]
    }
   ],
   "source": [
    "print(\"statement2\")"
   ]
  },
  {
   "cell_type": "code",
   "execution_count": 3,
   "id": "cbe32b95-38bf-4af9-8a4a-3eef15b8a2b5",
   "metadata": {},
   "outputs": [
    {
     "name": "stdout",
     "output_type": "stream",
     "text": [
      "statement3\n"
     ]
    }
   ],
   "source": [
    "print(\"statement3\")"
   ]
  },
  {
   "cell_type": "code",
   "execution_count": null,
   "id": "0e20ce4d-b92e-4af5-91b1-fb3a128dc284",
   "metadata": {},
   "outputs": [],
   "source": []
  }
 ],
 "metadata": {
  "kernelspec": {
   "display_name": "Python 3 (ipykernel)",
   "language": "python",
   "name": "python3"
  },
  "language_info": {
   "codemirror_mode": {
    "name": "ipython",
    "version": 3
   },
   "file_extension": ".py",
   "mimetype": "text/x-python",
   "name": "python",
   "nbconvert_exporter": "python",
   "pygments_lexer": "ipython3",
   "version": "3.11.5"
  }
 },
 "nbformat": 4,
 "nbformat_minor": 5
}
